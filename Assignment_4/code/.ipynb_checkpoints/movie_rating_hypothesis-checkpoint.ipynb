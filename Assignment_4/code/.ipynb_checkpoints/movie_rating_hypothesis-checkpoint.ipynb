{
 "cells": [
  {
   "cell_type": "markdown",
   "metadata": {},
   "source": [
    "# Movie Rating Hypothesis testing\n",
    "\n",
    "#### Grading:\n",
    "\n",
    "\n",
    "- Code: 90 pts\n",
    "- Markdown Documentation: 10 pts\n"
   ]
  },
  {
   "cell_type": "markdown",
   "metadata": {},
   "source": [
    "In this assignment we are going prove of disprove a hypothesis"
   ]
  },
  {
   "cell_type": "code",
   "execution_count": 1,
   "metadata": {},
   "outputs": [],
   "source": [
    "import os\n",
    "import pandas as pd\n",
    "import numpy as np\n",
    "import matplotlib.pyplot as plt\n",
    "import seaborn as sns\n",
    "import scipy.stats as stats\n",
    "from IPython.display import HTML, display\n",
    "\n",
    "pd.set_option('display.notebook_repr_html', False)\n",
    "pd.set_option('display.max_columns', 20)\n",
    "pd.set_option('display.max_rows', 25)"
   ]
  },
  {
   "cell_type": "code",
   "execution_count": 2,
   "metadata": {},
   "outputs": [],
   "source": [
    "%matplotlib inline"
   ]
  },
  {
   "cell_type": "markdown",
   "metadata": {},
   "source": [
    "##### Read and cleanup the movie data"
   ]
  },
  {
   "cell_type": "code",
   "execution_count": 3,
   "metadata": {},
   "outputs": [
    {
     "name": "stderr",
     "output_type": "stream",
     "text": [
      "C:\\Users\\varsh\\AppData\\Local\\Temp\\ipykernel_24924\\2599110875.py:4: ParserWarning: Falling back to the 'python' engine because the 'c' engine does not support regex separators (separators > 1 char and different from '\\s+' are interpreted as regex); you can avoid this warning by specifying engine='python'.\n",
      "  users = pd.read_table(os.path.join('../data','users.dat'),\n",
      "C:\\Users\\varsh\\AppData\\Local\\Temp\\ipykernel_24924\\2599110875.py:8: ParserWarning: Falling back to the 'python' engine because the 'c' engine does not support regex separators (separators > 1 char and different from '\\s+' are interpreted as regex); you can avoid this warning by specifying engine='python'.\n",
      "  ratings = pd.read_table(os.path.join('../data', 'ratings.dat'),\n"
     ]
    },
    {
     "name": "stdout",
     "output_type": "stream",
     "text": [
      "   movie_id                               title                        genres  \\\n",
      "0         1                    Toy Story (1995)   Animation|Children's|Comedy   \n",
      "1         2                      Jumanji (1995)  Adventure|Children's|Fantasy   \n",
      "2         3             Grumpier Old Men (1995)                Comedy|Romance   \n",
      "3         4            Waiting to Exhale (1995)                  Comedy|Drama   \n",
      "4         5  Father of the Bride Part II (1995)                        Comedy   \n",
      "\n",
      "   year                  short_title  \n",
      "0  1995                    Toy Story  \n",
      "1  1995                      Jumanji  \n",
      "2  1995             Grumpier Old Men  \n",
      "3  1995            Waiting to Exhale  \n",
      "4  1995  Father of the Bride Part II  \n"
     ]
    },
    {
     "name": "stderr",
     "output_type": "stream",
     "text": [
      "C:\\Users\\varsh\\AppData\\Local\\Temp\\ipykernel_24924\\2599110875.py:12: ParserWarning: Falling back to the 'python' engine because the 'c' engine does not support regex separators (separators > 1 char and different from '\\s+' are interpreted as regex); you can avoid this warning by specifying engine='python'.\n",
      "  movies = pd.read_table(os.path.join('../data', 'movies.dat'),\n"
     ]
    }
   ],
   "source": [
    "def get_movie_data():\n",
    "    \n",
    "    unames = ['user_id','gender','age','occupation','zip']\n",
    "    users = pd.read_table(os.path.join('../data','users.dat'), \n",
    "                          sep='::', header=None, names=unames, encoding='latin-1')\n",
    "    \n",
    "    rnames = ['user_id', 'movie_id', 'rating', 'timestamp']\n",
    "    ratings = pd.read_table(os.path.join('../data', 'ratings.dat'), \n",
    "                            sep='::', header=None, names=rnames, encoding='latin-1')\n",
    "    \n",
    "    mnames = ['movie_id', 'title','genres']\n",
    "    movies = pd.read_table(os.path.join('../data', 'movies.dat'), \n",
    "                           sep='::', header=None, names=mnames, encoding='latin-1')\n",
    "\n",
    "    return users, ratings, movies\n",
    "\n",
    "users, ratings, movies = get_movie_data()\n",
    "\n",
    "tmp = movies.title.str.extract('(.*) \\(([0-9]+)\\)')\n",
    "tmp.apply(lambda x:x[0] if len(x) > 0 else None)\n",
    "tmp.apply(lambda x: x[0][:40] if len(x) > 0 else None)\n",
    "\n",
    "movies['year'] = tmp[1]\n",
    "movies['short_title'] = tmp[0]\n",
    "\n",
    "print(movies.head())"
   ]
  },
  {
   "cell_type": "markdown",
   "metadata": {},
   "source": [
    "### 1. Prove or disprove the following Null Hypothesis:\n",
    "\n",
    "#### H0: Different age segments of users rate the different genres of movies similarly\n",
    "\n",
    "- Age segments are (0-20), (21-30), (31-50), (50 and above),\n",
    "- Genres - Drama, Comedy, Action, Romance, Adventure\n",
    "- Rating 4 or above is a positive, else negative (used for binary votes)"
   ]
  },
  {
   "cell_type": "markdown",
   "metadata": {},
   "source": [
    "#### Solution"
   ]
  },
  {
   "cell_type": "markdown",
   "metadata": {},
   "source": [
    "#### Im joining the movies and ratings dataframes and setting the index a movie_id to create dummies to seperate the genres column\n",
    "> ***movies_ratings*** dataframe"
   ]
  },
  {
   "cell_type": "code",
   "execution_count": 4,
   "metadata": {},
   "outputs": [
    {
     "data": {
      "text/plain": [
       "(1000209, 7)"
      ]
     },
     "execution_count": 4,
     "metadata": {},
     "output_type": "execute_result"
    }
   ],
   "source": [
    "movies_ratings = (ratings\n",
    "                  .set_index(\"movie_id\")\n",
    "                  .join(movies.set_index(\"movie_id\"),\n",
    "                        how=\"left\")\n",
    "                 )\n",
    "movies_ratings.shape"
   ]
  },
  {
   "cell_type": "markdown",
   "metadata": {},
   "source": [
    "#### Creating seperate columns for genres by using get_dummies as they are all in one column seperated by pipe delimiter\n",
    "> ***genres_dummies*** dataframe"
   ]
  },
  {
   "cell_type": "code",
   "execution_count": 5,
   "metadata": {},
   "outputs": [
    {
     "data": {
      "text/plain": [
       "(1000209, 18)"
      ]
     },
     "execution_count": 5,
     "metadata": {},
     "output_type": "execute_result"
    }
   ],
   "source": [
    "genres_dummies = movies_ratings['genres'].str.get_dummies()\n",
    "genres_dummies.shape"
   ]
  },
  {
   "cell_type": "markdown",
   "metadata": {},
   "source": [
    "#### Concatenate these dummies to the original movies_ratings data frame\n",
    "> **full_movies_ratings** dataframe\n",
    "- Also dropping genres other than Drama, Comedy, Action, Romance, Adventure"
   ]
  },
  {
   "cell_type": "code",
   "execution_count": 6,
   "metadata": {},
   "outputs": [
    {
     "data": {
      "text/plain": [
       "          user_id  rating             title                       genres  \\\n",
       "movie_id                                                                   \n",
       "1               1       5  Toy Story (1995)  Animation|Children's|Comedy   \n",
       "1               6       4  Toy Story (1995)  Animation|Children's|Comedy   \n",
       "1               8       4  Toy Story (1995)  Animation|Children's|Comedy   \n",
       "1               9       5  Toy Story (1995)  Animation|Children's|Comedy   \n",
       "1              10       5  Toy Story (1995)  Animation|Children's|Comedy   \n",
       "\n",
       "          year short_title  Action  Adventure  Comedy  Drama  Romance  \n",
       "movie_id                                                               \n",
       "1         1995   Toy Story       0          0       1      0        0  \n",
       "1         1995   Toy Story       0          0       1      0        0  \n",
       "1         1995   Toy Story       0          0       1      0        0  \n",
       "1         1995   Toy Story       0          0       1      0        0  \n",
       "1         1995   Toy Story       0          0       1      0        0  "
      ]
     },
     "execution_count": 6,
     "metadata": {},
     "output_type": "execute_result"
    }
   ],
   "source": [
    "full_movies_ratings = (pd.concat([movies_ratings, genres_dummies], axis=1)\n",
    "                       .drop([\"timestamp\",\"Animation\",\"Children's\",\"Crime\",\"Documentary\",\"Fantasy\",\"Film-Noir\",\"Horror\",\"Musical\",\"Mystery\",\"Sci-Fi\",\"Thriller\",\"War\",\"Western\"], axis=1)\n",
    "                )\n",
    "\n",
    "full_movies_ratings.head()"
   ]
  },
  {
   "cell_type": "code",
   "execution_count": 7,
   "metadata": {},
   "outputs": [
    {
     "data": {
      "text/plain": [
       "(1000209, 12)"
      ]
     },
     "execution_count": 7,
     "metadata": {},
     "output_type": "execute_result"
    }
   ],
   "source": [
    "full_movies_ratings.reset_index(inplace=True)\n",
    "full_movies_ratings.shape"
   ]
  },
  {
   "cell_type": "markdown",
   "metadata": {},
   "source": [
    "#### Merging users datafram with full_movies_ratings on user_id as common column\n",
    "> ***full_users_ratings_movies*** dataframe"
   ]
  },
  {
   "cell_type": "code",
   "execution_count": 8,
   "metadata": {},
   "outputs": [
    {
     "data": {
      "text/plain": [
       "   user_id  age  movie_id  rating                                      title  \\\n",
       "0        1    1         1       5                           Toy Story (1995)   \n",
       "1        1    1        48       5                          Pocahontas (1995)   \n",
       "2        1    1       150       5                           Apollo 13 (1995)   \n",
       "3        1    1       260       4  Star Wars: Episode IV - A New Hope (1977)   \n",
       "4        1    1       527       5                    Schindler's List (1993)   \n",
       "\n",
       "                                 genres  year  \\\n",
       "0           Animation|Children's|Comedy  1995   \n",
       "1  Animation|Children's|Musical|Romance  1995   \n",
       "2                                 Drama  1995   \n",
       "3       Action|Adventure|Fantasy|Sci-Fi  1977   \n",
       "4                             Drama|War  1993   \n",
       "\n",
       "                          short_title  Action  Adventure  Comedy  Drama  \\\n",
       "0                           Toy Story       0          0       1      0   \n",
       "1                          Pocahontas       0          0       0      0   \n",
       "2                           Apollo 13       0          0       0      1   \n",
       "3  Star Wars: Episode IV - A New Hope       1          1       0      0   \n",
       "4                    Schindler's List       0          0       0      1   \n",
       "\n",
       "   Romance  \n",
       "0        0  \n",
       "1        1  \n",
       "2        0  \n",
       "3        0  \n",
       "4        0  "
      ]
     },
     "execution_count": 8,
     "metadata": {},
     "output_type": "execute_result"
    }
   ],
   "source": [
    "full_users_ratings_movies = pd.merge(users, full_movies_ratings, on=['user_id'], how='inner').drop([\"occupation\", \"zip\",\"gender\"],axis=1)\n",
    "full_users_ratings_movies.head()"
   ]
  },
  {
   "cell_type": "code",
   "execution_count": 9,
   "metadata": {},
   "outputs": [
    {
     "data": {
      "text/plain": [
       "(1000209, 13)"
      ]
     },
     "execution_count": 9,
     "metadata": {},
     "output_type": "execute_result"
    }
   ],
   "source": [
    "full_users_ratings_movies.shape"
   ]
  },
  {
   "cell_type": "code",
   "execution_count": null,
   "metadata": {},
   "outputs": [],
   "source": []
  }
 ],
 "metadata": {
  "kernelspec": {
   "display_name": "Python 3 (ipykernel)",
   "language": "python",
   "name": "python3"
  },
  "language_info": {
   "codemirror_mode": {
    "name": "ipython",
    "version": 3
   },
   "file_extension": ".py",
   "mimetype": "text/x-python",
   "name": "python",
   "nbconvert_exporter": "python",
   "pygments_lexer": "ipython3",
   "version": "3.10.7"
  },
  "nteract": {
   "version": "0.25.0"
  }
 },
 "nbformat": 4,
 "nbformat_minor": 1
}
