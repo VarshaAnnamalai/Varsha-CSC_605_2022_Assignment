{
 "cells": [
  {
   "cell_type": "markdown",
   "metadata": {},
   "source": [
    "# Movie Rating Hypothesis testing\n",
    "\n",
    "#### Grading:\n",
    "\n",
    "\n",
    "- Code: 90 pts\n",
    "- Markdown Documentation: 10 pts\n"
   ]
  },
  {
   "cell_type": "markdown",
   "metadata": {},
   "source": [
    "In this assignment we are going prove of disprove a hypothesis"
   ]
  },
  {
   "cell_type": "code",
   "execution_count": 2,
   "metadata": {},
   "outputs": [],
   "source": [
    "import os\n",
    "import pandas as pd\n",
    "import numpy as np\n",
    "import matplotlib.pyplot as plt\n",
    "import seaborn as sns\n",
    "import scipy.stats as stats\n",
    "from IPython.display import HTML, display\n",
    "\n",
    "pd.set_option('display.notebook_repr_html', False)\n",
    "pd.set_option('display.max_columns', 20)\n",
    "pd.set_option('display.max_rows', 25)"
   ]
  },
  {
   "cell_type": "code",
   "execution_count": 3,
   "metadata": {},
   "outputs": [],
   "source": [
    "%matplotlib inline"
   ]
  },
  {
   "cell_type": "markdown",
   "metadata": {},
   "source": [
    "##### Read and cleanup the movie data"
   ]
  },
  {
   "cell_type": "code",
   "execution_count": 4,
   "metadata": {},
   "outputs": [
    {
     "name": "stderr",
     "output_type": "stream",
     "text": [
      "C:\\Users\\varsh\\AppData\\Local\\Temp\\ipykernel_16516\\2599110875.py:4: ParserWarning: Falling back to the 'python' engine because the 'c' engine does not support regex separators (separators > 1 char and different from '\\s+' are interpreted as regex); you can avoid this warning by specifying engine='python'.\n",
      "  users = pd.read_table(os.path.join('../data','users.dat'),\n",
      "C:\\Users\\varsh\\AppData\\Local\\Temp\\ipykernel_16516\\2599110875.py:8: ParserWarning: Falling back to the 'python' engine because the 'c' engine does not support regex separators (separators > 1 char and different from '\\s+' are interpreted as regex); you can avoid this warning by specifying engine='python'.\n",
      "  ratings = pd.read_table(os.path.join('../data', 'ratings.dat'),\n"
     ]
    },
    {
     "name": "stdout",
     "output_type": "stream",
     "text": [
      "   movie_id                               title                        genres  \\\n",
      "0         1                    Toy Story (1995)   Animation|Children's|Comedy   \n",
      "1         2                      Jumanji (1995)  Adventure|Children's|Fantasy   \n",
      "2         3             Grumpier Old Men (1995)                Comedy|Romance   \n",
      "3         4            Waiting to Exhale (1995)                  Comedy|Drama   \n",
      "4         5  Father of the Bride Part II (1995)                        Comedy   \n",
      "\n",
      "   year                  short_title  \n",
      "0  1995                    Toy Story  \n",
      "1  1995                      Jumanji  \n",
      "2  1995             Grumpier Old Men  \n",
      "3  1995            Waiting to Exhale  \n",
      "4  1995  Father of the Bride Part II  \n"
     ]
    },
    {
     "name": "stderr",
     "output_type": "stream",
     "text": [
      "C:\\Users\\varsh\\AppData\\Local\\Temp\\ipykernel_16516\\2599110875.py:12: ParserWarning: Falling back to the 'python' engine because the 'c' engine does not support regex separators (separators > 1 char and different from '\\s+' are interpreted as regex); you can avoid this warning by specifying engine='python'.\n",
      "  movies = pd.read_table(os.path.join('../data', 'movies.dat'),\n"
     ]
    }
   ],
   "source": [
    "def get_movie_data():\n",
    "    \n",
    "    unames = ['user_id','gender','age','occupation','zip']\n",
    "    users = pd.read_table(os.path.join('../data','users.dat'), \n",
    "                          sep='::', header=None, names=unames, encoding='latin-1')\n",
    "    \n",
    "    rnames = ['user_id', 'movie_id', 'rating', 'timestamp']\n",
    "    ratings = pd.read_table(os.path.join('../data', 'ratings.dat'), \n",
    "                            sep='::', header=None, names=rnames, encoding='latin-1')\n",
    "    \n",
    "    mnames = ['movie_id', 'title','genres']\n",
    "    movies = pd.read_table(os.path.join('../data', 'movies.dat'), \n",
    "                           sep='::', header=None, names=mnames, encoding='latin-1')\n",
    "\n",
    "    return users, ratings, movies\n",
    "\n",
    "users, ratings, movies = get_movie_data()\n",
    "\n",
    "tmp = movies.title.str.extract('(.*) \\(([0-9]+)\\)')\n",
    "tmp.apply(lambda x:x[0] if len(x) > 0 else None)\n",
    "tmp.apply(lambda x: x[0][:40] if len(x) > 0 else None)\n",
    "\n",
    "movies['year'] = tmp[1]\n",
    "movies['short_title'] = tmp[0]\n",
    "\n",
    "print(movies.head())"
   ]
  },
  {
   "cell_type": "markdown",
   "metadata": {},
   "source": [
    "### 1. Prove or disprove the following Null Hypothesis:\n",
    "\n",
    "#### H0: Different age segments of users rate the different genres of movies similarly\n",
    "\n",
    "- Age segments are (0-20), (21-30), (31-50), (50 and above),\n",
    "- Genres - Drama, Comedy, Action, Romance, Adventure\n",
    "- Rating 4 or above is a positive, else negative (used for binary votes)"
   ]
  },
  {
   "cell_type": "markdown",
   "metadata": {},
   "source": [
    "#### Solution"
   ]
  },
  {
   "cell_type": "markdown",
   "metadata": {},
   "source": [
    "\n",
    "#### Im joining the movies and ratings dataframes and setting the index a movie_id to create dummies to seperate the genres column\n",
    "> ***movies_ratings*** dataframe"
   ]
  },
  {
   "cell_type": "code",
   "execution_count": 5,
   "metadata": {},
   "outputs": [
    {
     "data": {
      "text/plain": [
       "(1000209, 7)"
      ]
     },
     "execution_count": 5,
     "metadata": {},
     "output_type": "execute_result"
    }
   ],
   "source": [
    "movies_ratings = (ratings\n",
    "                  .set_index(\"movie_id\")\n",
    "                  .join(movies.set_index(\"movie_id\"),\n",
    "                        how=\"left\")\n",
    "                 )\n",
    "movies_ratings.shape"
   ]
  },
  {
   "cell_type": "markdown",
   "metadata": {},
   "source": [
    "#### Creating seperate columns for genres by using get_dummies as they are all in one column seperated by pipe delimiter\n",
    "> ***genres_dummies*** dataframe"
   ]
  },
  {
   "cell_type": "code",
   "execution_count": 6,
   "metadata": {},
   "outputs": [
    {
     "data": {
      "text/plain": [
       "(1000209, 18)"
      ]
     },
     "execution_count": 6,
     "metadata": {},
     "output_type": "execute_result"
    }
   ],
   "source": [
    "genres_dummies = movies_ratings['genres'].str.get_dummies()\n",
    "genres_dummies.shape"
   ]
  },
  {
   "cell_type": "markdown",
   "metadata": {},
   "source": [
    "#### Concatenate these dummies to the original movies_ratings data frame\n",
    "> **full_movies_ratings** dataframe\n",
    "- Also dropping genres other than Drama, Comedy, Action, Romance, Adventure"
   ]
  },
  {
   "cell_type": "code",
   "execution_count": 7,
   "metadata": {},
   "outputs": [
    {
     "data": {
      "text/plain": [
       "          user_id  rating             title                       genres  \\\n",
       "movie_id                                                                   \n",
       "1               1       5  Toy Story (1995)  Animation|Children's|Comedy   \n",
       "1               6       4  Toy Story (1995)  Animation|Children's|Comedy   \n",
       "1               8       4  Toy Story (1995)  Animation|Children's|Comedy   \n",
       "1               9       5  Toy Story (1995)  Animation|Children's|Comedy   \n",
       "1              10       5  Toy Story (1995)  Animation|Children's|Comedy   \n",
       "\n",
       "          year short_title  Action  Adventure  Comedy  Drama  Romance  \n",
       "movie_id                                                               \n",
       "1         1995   Toy Story       0          0       1      0        0  \n",
       "1         1995   Toy Story       0          0       1      0        0  \n",
       "1         1995   Toy Story       0          0       1      0        0  \n",
       "1         1995   Toy Story       0          0       1      0        0  \n",
       "1         1995   Toy Story       0          0       1      0        0  "
      ]
     },
     "execution_count": 7,
     "metadata": {},
     "output_type": "execute_result"
    }
   ],
   "source": [
    "full_movies_ratings = (pd.concat([movies_ratings, genres_dummies], axis=1)\n",
    "                       .drop([\"timestamp\",\"Animation\",\"Children's\",\"Crime\",\"Documentary\",\"Fantasy\",\"Film-Noir\",\"Horror\",\"Musical\",\"Mystery\",\"Sci-Fi\",\"Thriller\",\"War\",\"Western\"], axis=1)\n",
    "                )\n",
    "\n",
    "full_movies_ratings.head()"
   ]
  },
  {
   "cell_type": "code",
   "execution_count": 8,
   "metadata": {},
   "outputs": [
    {
     "data": {
      "text/plain": [
       "(1000209, 12)"
      ]
     },
     "execution_count": 8,
     "metadata": {},
     "output_type": "execute_result"
    }
   ],
   "source": [
    "full_movies_ratings.reset_index(inplace=True)\n",
    "full_movies_ratings.shape"
   ]
  },
  {
   "cell_type": "markdown",
   "metadata": {},
   "source": [
    "#### Merging users datafram with full_movies_ratings on user_id as common column\n",
    "> ***full_users_ratings_movies*** dataframe"
   ]
  },
  {
   "cell_type": "code",
   "execution_count": 9,
   "metadata": {},
   "outputs": [
    {
     "data": {
      "text/plain": [
       "   user_id  age  movie_id  rating                                      title  \\\n",
       "0        1    1         1       5                           Toy Story (1995)   \n",
       "1        1    1        48       5                          Pocahontas (1995)   \n",
       "2        1    1       150       5                           Apollo 13 (1995)   \n",
       "3        1    1       260       4  Star Wars: Episode IV - A New Hope (1977)   \n",
       "4        1    1       527       5                    Schindler's List (1993)   \n",
       "\n",
       "                                 genres  year  \\\n",
       "0           Animation|Children's|Comedy  1995   \n",
       "1  Animation|Children's|Musical|Romance  1995   \n",
       "2                                 Drama  1995   \n",
       "3       Action|Adventure|Fantasy|Sci-Fi  1977   \n",
       "4                             Drama|War  1993   \n",
       "\n",
       "                          short_title  Action  Adventure  Comedy  Drama  \\\n",
       "0                           Toy Story       0          0       1      0   \n",
       "1                          Pocahontas       0          0       0      0   \n",
       "2                           Apollo 13       0          0       0      1   \n",
       "3  Star Wars: Episode IV - A New Hope       1          1       0      0   \n",
       "4                    Schindler's List       0          0       0      1   \n",
       "\n",
       "   Romance  \n",
       "0        0  \n",
       "1        1  \n",
       "2        0  \n",
       "3        0  \n",
       "4        0  "
      ]
     },
     "execution_count": 9,
     "metadata": {},
     "output_type": "execute_result"
    }
   ],
   "source": [
    "full_users_ratings_movies = pd.merge(users, full_movies_ratings, on=['user_id'], how='inner').drop([\"occupation\", \"zip\",\"gender\"],axis=1)\n",
    "full_users_ratings_movies.head()"
   ]
  },
  {
   "cell_type": "code",
   "execution_count": 10,
   "metadata": {},
   "outputs": [
    {
     "data": {
      "text/plain": [
       "(1000209, 13)"
      ]
     },
     "execution_count": 10,
     "metadata": {},
     "output_type": "execute_result"
    }
   ],
   "source": [
    "full_users_ratings_movies.shape"
   ]
  },
  {
   "cell_type": "markdown",
   "metadata": {},
   "source": [
    "# 1. Prove or disprove the following Null Hypothesis:"
   ]
  },
  {
   "cell_type": "markdown",
   "metadata": {},
   "source": [
    "## H0: Different age segments of users rate the different genres of movies similarly"
   ]
  },
  {
   "cell_type": "markdown",
   "metadata": {},
   "source": [
    "### - Rating 4 or above is a positive, else negative (used for binary votes)"
   ]
  },
  {
   "cell_type": "markdown",
   "metadata": {},
   "source": [
    "#### Converting the ratings into binary vote\n",
    "> The ratings given to the movies from 1 to 5 is concerted to binary rating that is ratings 4 or above then the rating is positive or one \n",
    "else if the rating is below 4 then the rating is negative or 0 ."
   ]
  },
  {
   "cell_type": "code",
   "execution_count": 11,
   "metadata": {},
   "outputs": [],
   "source": [
    "def my_function(x):\n",
    "    if x >= 4:\n",
    "        return 1\n",
    "    if x < 4:\n",
    "        return 0\n",
    "binary_vote=pd.DataFrame(full_users_ratings_movies[\"rating\"].map(my_function))\n",
    "binary_vote=binary_vote.rename({'rating': 'Binary_rating'}, axis='columns')"
   ]
  },
  {
   "cell_type": "code",
   "execution_count": 12,
   "metadata": {},
   "outputs": [
    {
     "data": {
      "text/plain": [
       "         Binary_rating\n",
       "0                    1\n",
       "1                    1\n",
       "2                    1\n",
       "3                    1\n",
       "4                    1\n",
       "...                ...\n",
       "1000204              1\n",
       "1000205              1\n",
       "1000206              1\n",
       "1000207              1\n",
       "1000208              1\n",
       "\n",
       "[1000209 rows x 1 columns]"
      ]
     },
     "execution_count": 12,
     "metadata": {},
     "output_type": "execute_result"
    }
   ],
   "source": [
    "binary_vote"
   ]
  },
  {
   "cell_type": "markdown",
   "metadata": {},
   "source": [
    "> Concatenating binary_vote dataframe into full_users_ratings_movies dataframe "
   ]
  },
  {
   "cell_type": "code",
   "execution_count": 13,
   "metadata": {
    "scrolled": true
   },
   "outputs": [
    {
     "data": {
      "text/plain": [
       "   user_id  age  movie_id  rating                                      title  \\\n",
       "0        1    1         1       5                           Toy Story (1995)   \n",
       "1        1    1        48       5                          Pocahontas (1995)   \n",
       "2        1    1       150       5                           Apollo 13 (1995)   \n",
       "3        1    1       260       4  Star Wars: Episode IV - A New Hope (1977)   \n",
       "4        1    1       527       5                    Schindler's List (1993)   \n",
       "\n",
       "                                 genres  year  \\\n",
       "0           Animation|Children's|Comedy  1995   \n",
       "1  Animation|Children's|Musical|Romance  1995   \n",
       "2                                 Drama  1995   \n",
       "3       Action|Adventure|Fantasy|Sci-Fi  1977   \n",
       "4                             Drama|War  1993   \n",
       "\n",
       "                          short_title  Action  Adventure  Comedy  Drama  \\\n",
       "0                           Toy Story       0          0       1      0   \n",
       "1                          Pocahontas       0          0       0      0   \n",
       "2                           Apollo 13       0          0       0      1   \n",
       "3  Star Wars: Episode IV - A New Hope       1          1       0      0   \n",
       "4                    Schindler's List       0          0       0      1   \n",
       "\n",
       "   Romance  Binary_rating  \n",
       "0        0              1  \n",
       "1        1              1  \n",
       "2        0              1  \n",
       "3        0              1  \n",
       "4        0              1  "
      ]
     },
     "execution_count": 13,
     "metadata": {},
     "output_type": "execute_result"
    }
   ],
   "source": [
    "users_ratings_movies = (pd.concat([full_users_ratings_movies,binary_vote], axis=1))\n",
    "users_ratings_movies.head()"
   ]
  },
  {
   "cell_type": "markdown",
   "metadata": {},
   "source": [
    "### - Age segments (0-20), (21-30), (31-50), (50 and above)\n",
    "#### Codification of Age into segments\n",
    "> dividing the Age column into 4 different segments of ranges (0-20),(21-30),(31-50),(50-above) and storing it as a seperate Age_bin column"
   ]
  },
  {
   "cell_type": "code",
   "execution_count": 14,
   "metadata": {},
   "outputs": [
    {
     "data": {
      "text/plain": [
       "           count\n",
       "Age_bin         \n",
       "0-20      210747\n",
       "21-30     395556\n",
       "31-50     355126\n",
       "50-above   38780"
      ]
     },
     "execution_count": 14,
     "metadata": {},
     "output_type": "execute_result"
    }
   ],
   "source": [
    "bins = [0,21,31,50, np.inf]\n",
    "labels = [\"0-20\",\"21-30\",\"31-50\",\"50-above\"]\n",
    "users_ratings_movies['Age_bin'] = pd.cut(users_ratings_movies['age'], bins=bins, labels=labels)\n",
    "\n",
    "Age_group = users_ratings_movies.groupby(['Age_bin'])['Binary_rating'].agg(['count'])\n",
    "Age_group"
   ]
  },
  {
   "cell_type": "markdown",
   "metadata": {},
   "source": [
    "### - Genres - Drama, Comedy, Action, Romance, Adventure"
   ]
  },
  {
   "cell_type": "markdown",
   "metadata": {},
   "source": [
    "#### Im considering all the movies form the respective movie genres\n",
    "> Adding a condition to seperate out all the Action, Adventure, Comedy, Drama, Romance movies and also getting their Binary votes respectively."
   ]
  },
  {
   "cell_type": "markdown",
   "metadata": {},
   "source": [
    "##### Action\n",
    "> Getting all action genre metioned movies and storing their binary votes into separate column"
   ]
  },
  {
   "cell_type": "code",
   "execution_count": 15,
   "metadata": {},
   "outputs": [
    {
     "data": {
      "text/plain": [
       "    movie_id  age Age_bin  Action  Action_Binary\n",
       "3        260    1    0-20       1              1\n",
       "23      1197    1    0-20       1              0\n",
       "27      1287    1    0-20       1              1\n",
       "36      2028    1    0-20       1              1\n",
       "43      2692    1    0-20       1              1"
      ]
     },
     "execution_count": 15,
     "metadata": {},
     "output_type": "execute_result"
    }
   ],
   "source": [
    "cols_Action= [\"movie_id\",\"age\",\"Age_bin\",\"Action\",\"Binary_rating\"]\n",
    "condition_Action = users_ratings_movies[\"Action\"] ==1\n",
    "\n",
    "Action = pd.DataFrame(users_ratings_movies\n",
    "         [cols_Action]\n",
    "         [condition_Action].rename({'Binary_rating':'Action_Binary'}, axis='columns'))\n",
    "Action.head()"
   ]
  },
  {
   "cell_type": "markdown",
   "metadata": {},
   "source": [
    "Sum of all binary votes for action genre"
   ]
  },
  {
   "cell_type": "code",
   "execution_count": 16,
   "metadata": {},
   "outputs": [
    {
     "data": {
      "text/plain": [
       "138766"
      ]
     },
     "execution_count": 16,
     "metadata": {},
     "output_type": "execute_result"
    }
   ],
   "source": [
    "Action['Action_Binary'].sum()"
   ]
  },
  {
   "cell_type": "markdown",
   "metadata": {},
   "source": [
    "groupby Age_bin and count the binary vote for the action genre with respect to the respective age segments"
   ]
  },
  {
   "cell_type": "code",
   "execution_count": 17,
   "metadata": {},
   "outputs": [
    {
     "data": {
      "text/plain": [
       "          ACTION\n",
       "Age_bin         \n",
       "0-20       56764\n",
       "21-30     105678\n",
       "31-50      86872\n",
       "50-above    8143"
      ]
     },
     "execution_count": 17,
     "metadata": {},
     "output_type": "execute_result"
    }
   ],
   "source": [
    "Action_group = pd.DataFrame(Action.groupby(['Age_bin'])['Action_Binary'].agg(['count']).rename({'count':'ACTION'}, axis='columns'))\n",
    "Action_group"
   ]
  },
  {
   "cell_type": "markdown",
   "metadata": {},
   "source": [
    "##### Adventure"
   ]
  },
  {
   "cell_type": "markdown",
   "metadata": {},
   "source": [
    "> Getting all adventure genre metioned movies and storing their binary votes into separate column"
   ]
  },
  {
   "cell_type": "code",
   "execution_count": 18,
   "metadata": {
    "scrolled": true
   },
   "outputs": [
    {
     "data": {
      "text/plain": [
       "    movie_id  age Age_bin  Adventure  Adventure_Binary\n",
       "3        260    1    0-20          1                 1\n",
       "15       919    1    0-20          1                 1\n",
       "23      1197    1    0-20          1                 0\n",
       "27      1287    1    0-20          1                 1\n",
       "29      1566    1    0-20          1                 1"
      ]
     },
     "execution_count": 18,
     "metadata": {},
     "output_type": "execute_result"
    }
   ],
   "source": [
    "cols_Adventure= [\"movie_id\",\"age\",\"Age_bin\",\"Adventure\",\"Binary_rating\"]\n",
    "condition_Adventure = users_ratings_movies[\"Adventure\"] ==1\n",
    "\n",
    "Adventure = pd.DataFrame(users_ratings_movies\n",
    "         [cols_Adventure]\n",
    "         [condition_Adventure].rename({'Binary_rating':'Adventure_Binary'}, axis='columns'))\n",
    "Adventure.head()"
   ]
  },
  {
   "cell_type": "markdown",
   "metadata": {},
   "source": [
    "Sum of all binary votes for comedy genre"
   ]
  },
  {
   "cell_type": "code",
   "execution_count": 19,
   "metadata": {},
   "outputs": [
    {
     "data": {
      "text/plain": [
       "70951"
      ]
     },
     "execution_count": 19,
     "metadata": {},
     "output_type": "execute_result"
    }
   ],
   "source": [
    "Adventure['Adventure_Binary'].sum()"
   ]
  },
  {
   "cell_type": "markdown",
   "metadata": {},
   "source": [
    "groupby Age_bin and count the binary vote for the adventure genre with respect to the respective age segments"
   ]
  },
  {
   "cell_type": "code",
   "execution_count": 20,
   "metadata": {},
   "outputs": [
    {
     "data": {
      "text/plain": [
       "          ADVENTURE\n",
       "Age_bin            \n",
       "0-20          30322\n",
       "21-30         52633\n",
       "31-50         46510\n",
       "50-above       4488"
      ]
     },
     "execution_count": 20,
     "metadata": {},
     "output_type": "execute_result"
    }
   ],
   "source": [
    "Adventure_group = pd.DataFrame(Adventure.groupby(['Age_bin'])['Adventure_Binary'].agg(['count']).rename({'count':'ADVENTURE'}, axis='columns'))\n",
    "Adventure_group"
   ]
  },
  {
   "cell_type": "markdown",
   "metadata": {},
   "source": [
    "##### Comedy"
   ]
  },
  {
   "cell_type": "markdown",
   "metadata": {},
   "source": [
    "> Getting all Comedy genre metioned movies and storing their binary votes into separate column"
   ]
  },
  {
   "cell_type": "code",
   "execution_count": 21,
   "metadata": {},
   "outputs": [
    {
     "data": {
      "text/plain": [
       "    movie_id  age Age_bin  Comedy  Comedy_Binary\n",
       "0          1    1    0-20       1              1\n",
       "6        588    1    0-20       1              1\n",
       "12       745    1    0-20       1              0\n",
       "18      1028    1    0-20       1              1\n",
       "23      1197    1    0-20       1              0"
      ]
     },
     "execution_count": 21,
     "metadata": {},
     "output_type": "execute_result"
    }
   ],
   "source": [
    "cols_Comedy= [\"movie_id\",\"age\",\"Age_bin\",\"Comedy\",\"Binary_rating\"]\n",
    "condition_Comedy = users_ratings_movies[\"Comedy\"] ==1\n",
    "\n",
    "Comedy = pd.DataFrame(users_ratings_movies\n",
    "         [cols_Comedy]\n",
    "         [condition_Comedy].rename({'Binary_rating':'Comedy_Binary'}, axis='columns'))\n",
    "Comedy.head()"
   ]
  },
  {
   "cell_type": "markdown",
   "metadata": {},
   "source": [
    "Sum of all binary votes for comedy genre"
   ]
  },
  {
   "cell_type": "code",
   "execution_count": 22,
   "metadata": {},
   "outputs": [
    {
     "data": {
      "text/plain": [
       "196945"
      ]
     },
     "execution_count": 22,
     "metadata": {},
     "output_type": "execute_result"
    }
   ],
   "source": [
    "Comedy['Comedy_Binary'].sum()"
   ]
  },
  {
   "cell_type": "markdown",
   "metadata": {},
   "source": [
    "groupby Age_bin and count the binary vote for the comedy genre with respect to the respective age segments"
   ]
  },
  {
   "cell_type": "code",
   "execution_count": 23,
   "metadata": {},
   "outputs": [
    {
     "data": {
      "text/plain": [
       "          COMEDY\n",
       "Age_bin         \n",
       "0-20       81142\n",
       "21-30     143210\n",
       "31-50     120267\n",
       "50-above   11961"
      ]
     },
     "execution_count": 23,
     "metadata": {},
     "output_type": "execute_result"
    }
   ],
   "source": [
    "Comedy_group = pd.DataFrame(Comedy.groupby(['Age_bin'])['Comedy_Binary'].agg(['count']).rename({'count':'COMEDY'}, axis='columns'))\n",
    "Comedy_group"
   ]
  },
  {
   "cell_type": "markdown",
   "metadata": {},
   "source": [
    "##### Drama"
   ]
  },
  {
   "cell_type": "markdown",
   "metadata": {},
   "source": [
    "> Getting all Drama genre metioned movies and storing their binary votes into separate column"
   ]
  },
  {
   "cell_type": "code",
   "execution_count": 24,
   "metadata": {},
   "outputs": [
    {
     "data": {
      "text/plain": [
       "    movie_id  age Age_bin  Drama  Drama_Binary\n",
       "2        150    1    0-20      1             1\n",
       "4        527    1    0-20      1             1\n",
       "5        531    1    0-20      1             1\n",
       "9        608    1    0-20      1             1\n",
       "15       919    1    0-20      1             1"
      ]
     },
     "execution_count": 24,
     "metadata": {},
     "output_type": "execute_result"
    }
   ],
   "source": [
    "cols_Drama= [\"movie_id\",\"age\",\"Age_bin\",\"Drama\",\"Binary_rating\"]\n",
    "condition_Drama = users_ratings_movies[\"Drama\"] ==1\n",
    "\n",
    "Drama = pd.DataFrame(users_ratings_movies\n",
    "         [cols_Drama]\n",
    "         [condition_Drama].rename({'Binary_rating':'Drama_Binary'}, axis='columns'))\n",
    "Drama.head()"
   ]
  },
  {
   "cell_type": "markdown",
   "metadata": {},
   "source": [
    "Sum of all binary votes for drama genre"
   ]
  },
  {
   "cell_type": "code",
   "execution_count": 25,
   "metadata": {},
   "outputs": [
    {
     "data": {
      "text/plain": [
       "228440"
      ]
     },
     "execution_count": 25,
     "metadata": {},
     "output_type": "execute_result"
    }
   ],
   "source": [
    "Drama['Drama_Binary'].sum()"
   ]
  },
  {
   "cell_type": "markdown",
   "metadata": {},
   "source": [
    "groupby Age_bin and count the binary vote for the drama genre with respect to the respective age segments"
   ]
  },
  {
   "cell_type": "code",
   "execution_count": 26,
   "metadata": {},
   "outputs": [
    {
     "data": {
      "text/plain": [
       "           DRAMA\n",
       "Age_bin         \n",
       "0-20       65587\n",
       "21-30     138695\n",
       "31-50     132978\n",
       "50-above   17269"
      ]
     },
     "execution_count": 26,
     "metadata": {},
     "output_type": "execute_result"
    }
   ],
   "source": [
    "Drama_group = pd.DataFrame(Drama.groupby(['Age_bin'])['Drama_Binary'].agg(['count']).rename({'count':'DRAMA'}, axis='columns'))\n",
    "Drama_group"
   ]
  },
  {
   "cell_type": "markdown",
   "metadata": {},
   "source": [
    "##### Romance"
   ]
  },
  {
   "cell_type": "markdown",
   "metadata": {},
   "source": [
    "> Getting all romance genre metioned movies and storing their binary votes into separate column"
   ]
  },
  {
   "cell_type": "code",
   "execution_count": 27,
   "metadata": {},
   "outputs": [
    {
     "data": {
      "text/plain": [
       "    movie_id  age Age_bin  Romance  Romance_Binary\n",
       "1         48    1    0-20        1               1\n",
       "14       914    1    0-20        1               0\n",
       "23      1197    1    0-20        1               0\n",
       "30      1721    1    0-20        1               1\n",
       "39      2340    1    0-20        1               0"
      ]
     },
     "execution_count": 27,
     "metadata": {},
     "output_type": "execute_result"
    }
   ],
   "source": [
    "cols_Romance= [\"movie_id\",\"age\",\"Age_bin\",\"Romance\",\"Binary_rating\"]\n",
    "condition_Romance = users_ratings_movies[\"Romance\"] ==1\n",
    "\n",
    "Romance = pd.DataFrame(users_ratings_movies\n",
    "         [cols_Romance]\n",
    "         [condition_Romance].rename({'Binary_rating':'Romance_Binary'}, axis='columns'))\n",
    "Romance.head()"
   ]
  },
  {
   "cell_type": "markdown",
   "metadata": {},
   "source": [
    "Sum of all binary votes for romance genre"
   ]
  },
  {
   "cell_type": "code",
   "execution_count": 28,
   "metadata": {},
   "outputs": [
    {
     "data": {
      "text/plain": [
       "85499"
      ]
     },
     "execution_count": 28,
     "metadata": {},
     "output_type": "execute_result"
    }
   ],
   "source": [
    "Romance['Romance_Binary'].sum()"
   ]
  },
  {
   "cell_type": "markdown",
   "metadata": {},
   "source": [
    "groupby Age_bin and count the binary vote for the romance genre with respect to the respective age segments"
   ]
  },
  {
   "cell_type": "code",
   "execution_count": 29,
   "metadata": {},
   "outputs": [
    {
     "data": {
      "text/plain": [
       "          ROMANCE\n",
       "Age_bin          \n",
       "0-20        29255\n",
       "21-30       58003\n",
       "31-50       53986\n",
       "50-above     6279"
      ]
     },
     "execution_count": 29,
     "metadata": {},
     "output_type": "execute_result"
    }
   ],
   "source": [
    "Romance_group = pd.DataFrame(Romance.groupby(['Age_bin'])['Romance_Binary'].agg(['count']).rename({'count':'ROMANCE'}, axis='columns'))\n",
    "Romance_group"
   ]
  },
  {
   "cell_type": "markdown",
   "metadata": {},
   "source": [
    "#### Merge all 5 genres counts and the age_bins"
   ]
  },
  {
   "cell_type": "markdown",
   "metadata": {},
   "source": [
    "Merge Action_group and Adventure_group to final_df "
   ]
  },
  {
   "cell_type": "code",
   "execution_count": 30,
   "metadata": {},
   "outputs": [
    {
     "data": {
      "text/plain": [
       "          ACTION  ADVENTURE\n",
       "Age_bin                    \n",
       "0-20       56764      30322\n",
       "21-30     105678      52633\n",
       "31-50      86872      46510\n",
       "50-above    8143       4488"
      ]
     },
     "execution_count": 30,
     "metadata": {},
     "output_type": "execute_result"
    }
   ],
   "source": [
    "final_df = pd.merge(Action_group,Adventure_group, on=['Age_bin'], how='inner')\n",
    "final_df.head()"
   ]
  },
  {
   "cell_type": "markdown",
   "metadata": {},
   "source": [
    "Merge final_df and Comedy_group to final_df"
   ]
  },
  {
   "cell_type": "code",
   "execution_count": 31,
   "metadata": {},
   "outputs": [
    {
     "data": {
      "text/plain": [
       "          ACTION  ADVENTURE  COMEDY\n",
       "Age_bin                            \n",
       "0-20       56764      30322   81142\n",
       "21-30     105678      52633  143210\n",
       "31-50      86872      46510  120267\n",
       "50-above    8143       4488   11961"
      ]
     },
     "execution_count": 31,
     "metadata": {},
     "output_type": "execute_result"
    }
   ],
   "source": [
    "final_df = pd.merge(final_df,Comedy_group, on=['Age_bin'], how='inner')\n",
    "final_df.head()"
   ]
  },
  {
   "cell_type": "markdown",
   "metadata": {},
   "source": [
    "Merge final_df and Drama_group to final_df"
   ]
  },
  {
   "cell_type": "code",
   "execution_count": 32,
   "metadata": {},
   "outputs": [
    {
     "data": {
      "text/plain": [
       "          ACTION  ADVENTURE  COMEDY   DRAMA\n",
       "Age_bin                                    \n",
       "0-20       56764      30322   81142   65587\n",
       "21-30     105678      52633  143210  138695\n",
       "31-50      86872      46510  120267  132978\n",
       "50-above    8143       4488   11961   17269"
      ]
     },
     "execution_count": 32,
     "metadata": {},
     "output_type": "execute_result"
    }
   ],
   "source": [
    "final_df = pd.merge(final_df,Drama_group, on=['Age_bin'], how='inner')\n",
    "final_df.head()"
   ]
  },
  {
   "cell_type": "markdown",
   "metadata": {},
   "source": [
    "Merge final_df and Romance_group to final_df"
   ]
  },
  {
   "cell_type": "code",
   "execution_count": 33,
   "metadata": {},
   "outputs": [
    {
     "data": {
      "text/plain": [
       "          ACTION  ADVENTURE  COMEDY   DRAMA  ROMANCE\n",
       "Age_bin                                             \n",
       "0-20       56764      30322   81142   65587    29255\n",
       "21-30     105678      52633  143210  138695    58003\n",
       "31-50      86872      46510  120267  132978    53986\n",
       "50-above    8143       4488   11961   17269     6279"
      ]
     },
     "execution_count": 33,
     "metadata": {},
     "output_type": "execute_result"
    }
   ],
   "source": [
    "final_df = pd.merge(final_df,Romance_group, on=['Age_bin'], how='inner')\n",
    "final_df.head()"
   ]
  },
  {
   "cell_type": "markdown",
   "metadata": {},
   "source": [
    "> As knowing the value of Age_bin tells us nothing about the value of genres.\n",
    "So , they are indipendent variables"
   ]
  },
  {
   "cell_type": "markdown",
   "metadata": {},
   "source": [
    "####  Get Both Column Total and Row Total"
   ]
  },
  {
   "cell_type": "markdown",
   "metadata": {},
   "source": [
    "Appending column total that is sum of all columns and row total that is sum of all rows"
   ]
  },
  {
   "cell_type": "code",
   "execution_count": 34,
   "metadata": {},
   "outputs": [
    {
     "data": {
      "text/plain": [
       "              ACTION  ADVENTURE  COMEDY   DRAMA  ROMANCE  Row_Total\n",
       "Age_bin                                                            \n",
       "0-20           56764      30322   81142   65587    29255     263070\n",
       "21-30         105678      52633  143210  138695    58003     498219\n",
       "31-50          86872      46510  120267  132978    53986     440613\n",
       "50-above        8143       4488   11961   17269     6279      48140\n",
       "Column_Total  257457     133953  356580  354529   147523    1250042"
      ]
     },
     "execution_count": 34,
     "metadata": {},
     "output_type": "execute_result"
    }
   ],
   "source": [
    "final_df.loc['Column_Total']= final_df.sum(numeric_only=True, axis=0)\n",
    "final_df.loc[:,'Row_Total'] = final_df.sum(numeric_only=True, axis=1)\n",
    "final_df"
   ]
  },
  {
   "cell_type": "markdown",
   "metadata": {},
   "source": [
    " #### Observed\n",
    " Get table without Row_Total and Column_Total for later use"
   ]
  },
  {
   "cell_type": "code",
   "execution_count": 35,
   "metadata": {},
   "outputs": [
    {
     "data": {
      "text/plain": [
       "          ACTION  ADVENTURE  COMEDY   DRAMA  ROMANCE\n",
       "Age_bin                                             \n",
       "0-20       56764      30322   81142   65587    29255\n",
       "21-30     105678      52633  143210  138695    58003\n",
       "31-50      86872      46510  120267  132978    53986\n",
       "50-above    8143       4488   11961   17269     6279"
      ]
     },
     "execution_count": 35,
     "metadata": {},
     "output_type": "execute_result"
    }
   ],
   "source": [
    "observed = final_df.iloc[0:4,0:5]  \n",
    "observed"
   ]
  },
  {
   "cell_type": "markdown",
   "metadata": {},
   "source": [
    "#### Expected\n",
    "To get the expected count for a cell, we multiply the Row_Total for that cell by the Column_Total for that cell and then divide by the total number of observations.\n"
   ]
  },
  {
   "cell_type": "code",
   "execution_count": 36,
   "metadata": {},
   "outputs": [
    {
     "data": {
      "text/plain": [
       "                 ACTION     ADVENTURE         COMEDY          DRAMA  \\\n",
       "0-20       54181.549892  28190.265375   75041.879073   74610.248320   \n",
       "21-30     102612.527485  53388.549910  142119.169612  141301.719343   \n",
       "31-50      90748.071778  47215.560108  125686.803755  124963.870236   \n",
       "50-above    9914.850845   5158.624606   13732.147560   13653.162102   \n",
       "\n",
       "               ROMANCE  \n",
       "0-20      31046.057340  \n",
       "21-30     58797.033649  \n",
       "31-50     51998.694123  \n",
       "50-above   5681.214887  "
      ]
     },
     "execution_count": 36,
     "metadata": {},
     "output_type": "execute_result"
    }
   ],
   "source": [
    "expected =  np.outer(final_df[\"Row_Total\"][0:4],\n",
    "                     final_df.loc[\"Column_Total\"][0:5]) / 1250042\n",
    "\n",
    "expected = pd.DataFrame(expected)\n",
    "\n",
    "expected.columns = [\"ACTION\",\"ADVENTURE\",\"COMEDY\",\"DRAMA\",\"ROMANCE\"]\n",
    "expected.index = [\"0-20\",\"21-30\",\"31-50\",\"50-above\"]\n",
    "\n",
    "expected"
   ]
  },
  {
   "cell_type": "markdown",
   "metadata": {},
   "source": [
    "#### chi-squared \n",
    "chi-squared formula is the summation of observed minus expected values whole square ,divived by expected value"
   ]
  },
  {
   "cell_type": "code",
   "execution_count": 43,
   "metadata": {},
   "outputs": [
    {
     "name": "stdout",
     "output_type": "stream",
     "text": [
      "4796.687892530289\n"
     ]
    }
   ],
   "source": [
    "chi_squared_stat = (((observed-expected)**2)/expected).sum().sum()\n",
    "\n",
    "print(chi_squared_stat)"
   ]
  },
  {
   "cell_type": "markdown",
   "metadata": {},
   "source": [
    "- degrees of freedom for a test of independence equals the product of the number of categories in each variable minus 1.\n",
    " 4x5 table so df = 3x4 = 12.\n",
    "- Find the critical value for 95% confidence\n",
    "- Find the p-value"
   ]
  },
  {
   "cell_type": "code",
   "execution_count": 40,
   "metadata": {},
   "outputs": [
    {
     "name": "stdout",
     "output_type": "stream",
     "text": [
      "Critical value\n",
      "21.02606981748307\n",
      "P value\n",
      "0.0\n"
     ]
    }
   ],
   "source": [
    "crit = stats.chi2.ppf(q = 0.95, # Find the critical value for 95% confidence*\n",
    "                      df = 12)   # *\n",
    "\n",
    "print(\"Critical value\")\n",
    "print(crit)\n",
    "\n",
    "p_value = 1 - stats.chi2.cdf(x=chi_squared_stat,  # Find the p-value\n",
    "                             df=12)\n",
    "print(\"P value\")\n",
    "print(p_value)"
   ]
  },
  {
   "cell_type": "markdown",
   "metadata": {},
   "source": [
    "test of independence automatically given a frequency table of observed counts"
   ]
  },
  {
   "cell_type": "code",
   "execution_count": 41,
   "metadata": {},
   "outputs": [
    {
     "data": {
      "text/plain": [
       "(4796.687892530289,\n",
       " 0.0,\n",
       " 12,\n",
       " array([[ 54181.54989192,  28190.26537508,  75041.87907286,\n",
       "          74610.24831966,  31046.05734047],\n",
       "        [102612.52748548,  53388.54991032, 142119.1696119 ,\n",
       "         141301.71934303,  58797.03364927],\n",
       "        [ 90748.07177759,  47215.56010838, 125686.80375539,\n",
       "         124963.87023556,  51998.69412308],\n",
       "        [  9914.85084501,   5158.62460621,  13732.14755984,\n",
       "          13653.16210175,   5681.21488718]]))"
      ]
     },
     "execution_count": 41,
     "metadata": {},
     "output_type": "execute_result"
    }
   ],
   "source": [
    "stats.chi2_contingency(observed= observed)"
   ]
  },
  {
   "cell_type": "markdown",
   "metadata": {},
   "source": [
    "The output shows the chi-square statistic, the p-value and the degrees of freedom followed by the expected count."
   ]
  },
  {
   "cell_type": "markdown",
   "metadata": {},
   "source": [
    "Given the null p-value,The test result dose detect a significant relationship between the variables"
   ]
  },
  {
   "cell_type": "markdown",
   "metadata": {},
   "source": [
    "Since our chi-squared statistics exceeds the critical value , we would **Reject the null hypothesis that is \"Different age segments of users rate the different genres of movies differently\"**"
   ]
  },
  {
   "cell_type": "code",
   "execution_count": null,
   "metadata": {},
   "outputs": [],
   "source": []
  }
 ],
 "metadata": {
  "kernelspec": {
   "display_name": "Python 3 (ipykernel)",
   "language": "python",
   "name": "python3"
  },
  "language_info": {
   "codemirror_mode": {
    "name": "ipython",
    "version": 3
   },
   "file_extension": ".py",
   "mimetype": "text/x-python",
   "name": "python",
   "nbconvert_exporter": "python",
   "pygments_lexer": "ipython3",
   "version": "3.10.7"
  },
  "nteract": {
   "version": "0.25.0"
  }
 },
 "nbformat": 4,
 "nbformat_minor": 1
}
