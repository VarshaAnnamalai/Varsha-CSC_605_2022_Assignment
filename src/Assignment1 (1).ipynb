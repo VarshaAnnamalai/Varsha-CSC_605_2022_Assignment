{
 "cells": [
  {
   "cell_type": "markdown",
   "id": "98146e0c",
   "metadata": {},
   "source": [
    "# Random Team Generator"
   ]
  },
  {
   "cell_type": "markdown",
   "id": "a4fcc4ff",
   "metadata": {},
   "source": [
    "This code below imports csv library and reads the **stud_file** into the **stud_list** . \n",
    "And also prints out the **stud_list**"
   ]
  },
  {
   "cell_type": "code",
   "execution_count": 20,
   "id": "52e1aac7",
   "metadata": {},
   "outputs": [
    {
     "name": "stdout",
     "output_type": "stream",
     "text": [
      "[['Student', 'Hash'], ['Annamalai, Varsha', '2.73273E+18'], ['Arasikere Rakesh, Raveena', '2.71539E+18'], ['Budavi, Priyanka', '6.09723E+17'], ['Darandale, Aditi', '-3.59295E+18'], ['Doerr, Maximilian', '-2.4187E+17'], ['Farahani, Parisa', '-7.8267E+17'], ['Gabbula, Sai Ram Ajay Krishna', '3.43064E+18'], ['Gabbula, Venkata Vijay Krishna', '2.27462E+18'], ['Gunde, Deeksha', '4.06955E+18'], ['Kallem, Snehith', '2.9639E+17'], ['Kuluri, Manichandana', '-9.11349E+18'], ['Nimmaturi, Sai Swapnika', '8.87165E+18'], ['Potlapally, Shruti Nandana', '6.68001E+18'], ['Shah, Manish', '4.3331E+18'], ['Shou, Wenhao', '2.26211E+18'], ['Veeramaneni, Varsha', '-1.09099E+18'], ['Vidapu, Aman Tej', '7.34735E+18'], ['Abisiga, Mojeed', '1.75675E+18'], ['Gayam, Sai Santosh Reddy', '-2.86333E+18'], ['Havalchi, Mufaddal', '5.5567E+18'], ['Nezianya, Ndubuisi', '-1.86876E+18'], ['Patil, Deeksha', '7.98012E+18'], ['Teri, Benjamin', '8.159E+18']]\n"
     ]
    }
   ],
   "source": [
    "import csv\n",
    "with open('studentData.csv','r') as stud_file:\n",
    "    stud_data=csv.reader(stud_file)\n",
    "    stud_list=list(stud_data)\n",
    "print(stud_list)    "
   ]
  },
  {
   "cell_type": "markdown",
   "id": "90736967",
   "metadata": {},
   "source": [
    "The code below helps to remove the header from the **stud_list** to exclude it from the no. of students"
   ]
  },
  {
   "cell_type": "code",
   "execution_count": 3,
   "id": "810a2882",
   "metadata": {
    "scrolled": true
   },
   "outputs": [
    {
     "name": "stdout",
     "output_type": "stream",
     "text": [
      "[['Annamalai, Varsha', '2.73273E+18'], ['Arasikere Rakesh, Raveena', '2.71539E+18'], ['Budavi, Priyanka', '6.09723E+17'], ['Darandale, Aditi', '-3.59295E+18'], ['Doerr, Maximilian', '-2.4187E+17'], ['Farahani, Parisa', '-7.8267E+17'], ['Gabbula, Sai Ram Ajay Krishna', '3.43064E+18'], ['Gabbula, Venkata Vijay Krishna', '2.27462E+18'], ['Gunde, Deeksha', '4.06955E+18'], ['Kallem, Snehith', '2.9639E+17'], ['Kuluri, Manichandana', '-9.11349E+18'], ['Nimmaturi, Sai Swapnika', '8.87165E+18'], ['Potlapally, Shruti Nandana', '6.68001E+18'], ['Shah, Manish', '4.3331E+18'], ['Shou, Wenhao', '2.26211E+18'], ['Veeramaneni, Varsha', '-1.09099E+18'], ['Vidapu, Aman Tej', '7.34735E+18'], ['Abisiga, Mojeed', '1.75675E+18'], ['Gayam, Sai Santosh Reddy', '-2.86333E+18'], ['Havalchi, Mufaddal', '5.5567E+18'], ['Nezianya, Ndubuisi', '-1.86876E+18'], ['Patil, Deeksha', '7.98012E+18'], ['Teri, Benjamin', '8.159E+18']]\n"
     ]
    }
   ],
   "source": [
    "stud_list.remove(stud_list[0])\n",
    "print(stud_list)"
   ]
  },
  {
   "cell_type": "markdown",
   "id": "f5585c4a",
   "metadata": {},
   "source": [
    "The line of code below is used to find the total number of students in the **stud_list**"
   ]
  },
  {
   "cell_type": "code",
   "execution_count": 12,
   "id": "88c71509",
   "metadata": {},
   "outputs": [
    {
     "name": "stdout",
     "output_type": "stream",
     "text": [
      "23\n"
     ]
    }
   ],
   "source": [
    "stud_list_length=len(stud_list)\n",
    "print(stud_list_length)"
   ]
  },
  {
   "cell_type": "code",
   "execution_count": 39,
   "id": "c0b36b02",
   "metadata": {},
   "outputs": [
    {
     "name": "stdout",
     "output_type": "stream",
     "text": [
      "Enter the number of teams:9\n",
      "9\n",
      "group no:  1\n",
      "['Darandale, Aditi', '-3.59295E+18']\n",
      "['Gabbula, Venkata Vijay Krishna', '2.27462E+18']\n",
      "['Budavi, Priyanka', '6.09723E+17']\n",
      "group no:  2\n",
      "['Potlapally, Shruti Nandana', '6.68001E+18']\n",
      "['Farahani, Parisa', '-7.8267E+17']\n",
      "['Gayam, Sai Santosh Reddy', '-2.86333E+18']\n",
      "group no:  3\n",
      "['Kallem, Snehith', '2.9639E+17']\n",
      "['Shah, Manish', '4.3331E+18']\n",
      "['Vidapu, Aman Tej', '7.34735E+18']\n",
      "group no:  4\n",
      "['Gabbula, Sai Ram Ajay Krishna', '3.43064E+18']\n",
      "['Kuluri, Manichandana', '-9.11349E+18']\n",
      "['Havalchi, Mufaddal', '5.5567E+18']\n",
      "group no:  5\n",
      "['Teri, Benjamin', '8.159E+18']\n",
      "['Arasikere Rakesh, Raveena', '2.71539E+18']\n",
      "['Patil, Deeksha', '7.98012E+18']\n",
      "group no:  6\n",
      "['Shou, Wenhao', '2.26211E+18']\n",
      "['Annamalai, Varsha', '2.73273E+18']\n",
      "group no:  7\n",
      "['Abisiga, Mojeed', '1.75675E+18']\n",
      "['Veeramaneni, Varsha', '-1.09099E+18']\n",
      "group no:  8\n",
      "['Nimmaturi, Sai Swapnika', '8.87165E+18']\n",
      "['Doerr, Maximilian', '-2.4187E+17']\n",
      "group no:  9\n",
      "['Gunde, Deeksha', '4.06955E+18']\n",
      "['Nezianya, Ndubuisi', '-1.86876E+18']\n"
     ]
    }
   ],
   "source": [
    "import csv\n",
    "with open('studentData.csv','r') as stud_file:\n",
    "    stud_data=csv.reader(stud_file)\n",
    "    stud_list=list(stud_data)\n",
    "stud_list.remove(stud_list[0])   \n",
    "\n",
    "from random import randint\n",
    "no_of_team=int(input(\"Enter the number of teams:\"))\n",
    "print(no_of_team)\n",
    "teams=[]\n",
    "no_of_students=stud_list_length//no_of_team\n",
    "remaining_students=stud_list_length%no_of_team\n",
    "for i in range(0,no_of_team):\n",
    "    team=[]\n",
    "    for j in range(0,no_of_students):\n",
    "        index=randint(0,len(stud_list)-1)\n",
    "        team.append(stud_list[index])\n",
    "        stud_list.remove(stud_list[index])\n",
    "    teams.append(team)\n",
    "switcher=0\n",
    "for i in range(0,remaining_students):\n",
    "    index=randint(0,len(stud_list)-1)\n",
    "    teams[switcher].append(stud_list[index])\n",
    "    stud_list.remove(stud_list[index])\n",
    "    switcher=switcher+1\n",
    "for i in range(0,len(teams)):\n",
    "    print(\"group no: \",str(i+1))\n",
    "    for j in teams[i]:\n",
    "        print(j)"
   ]
  },
  {
   "cell_type": "code",
   "execution_count": null,
   "id": "a17b7a7d",
   "metadata": {},
   "outputs": [],
   "source": []
  }
 ],
 "metadata": {
  "kernelspec": {
   "display_name": "Python 3 (ipykernel)",
   "language": "python",
   "name": "python3"
  },
  "language_info": {
   "codemirror_mode": {
    "name": "ipython",
    "version": 3
   },
   "file_extension": ".py",
   "mimetype": "text/x-python",
   "name": "python",
   "nbconvert_exporter": "python",
   "pygments_lexer": "ipython3",
   "version": "3.10.6"
  }
 },
 "nbformat": 4,
 "nbformat_minor": 5
}
